{
 "cells": [
  {
   "cell_type": "code",
   "execution_count": 2,
   "id": "right-gentleman",
   "metadata": {},
   "outputs": [
    {
     "name": "stdout",
     "output_type": "stream",
     "text": [
      "Rank of Y1 = 2\n",
      "Rank of Y2 = 3\n",
      "Rank of Z1 = 3\n",
      "Rank of Z2 = 3\n"
     ]
    }
   ],
   "source": [
    "import numpy as np\n",
    "#Dimensions of X\n",
    "n = 6\n",
    "m = 5\n",
    "r = 3\n",
    "#Columns of X\n",
    "c1 = np.expand_dims(np.array([1,1,0,0,0,0]), axis=1)\n",
    "c2 = np.expand_dims(np.array([0,0,1,1,0,0]), axis=1)\n",
    "c3 = np.expand_dims(np.array([0,0,0,0,1,1]), axis=1)\n",
    "c4 = 2*c1+c2\n",
    "c5 = c1+2*c2-3*c3\n",
    "\n",
    "X = np.concatenate((c1,c2,c3,c4,c5), axis = 1)\n",
    "\n",
    "#Create random projection matrices\n",
    "P1 = np.random.randint(2, size = (n,r))\n",
    "P1 = P1*2-np.ones((n,r))\n",
    "P2 = np.random.randint(2, size = (n,r+1))\n",
    "P2 = P2*2-np.ones((n,r+1))\n",
    "\n",
    "P3 = np.random.randint(2, size = (m,r))\n",
    "P3 = P3*2-np.ones((m,r))\n",
    "P4 = np.random.randint(2, size = (m,r+1))\n",
    "P4 = P4*2-np.ones((m,r+1))\n",
    "\n",
    "#Project X onto P\n",
    "Y1 = P1.T @ X\n",
    "Y2 = P2.T @ X\n",
    "\n",
    "Z1 = X @ P3\n",
    "Z2 = X @ P4\n",
    "\n",
    "print('Rank of Y1 = ' + str(np.linalg.matrix_rank(Y1)))\n",
    "print('Rank of Y2 = ' + str(np.linalg.matrix_rank(Y2)))\n",
    "print('Rank of Z1 = ' + str(np.linalg.matrix_rank(Z1)))\n",
    "print('Rank of Z2 = ' + str(np.linalg.matrix_rank(Z2)))"
   ]
  },
  {
   "cell_type": "code",
   "execution_count": 3,
   "id": "turkish-norwegian",
   "metadata": {},
   "outputs": [
    {
     "name": "stdout",
     "output_type": "stream",
     "text": [
      "Rank of X = 300\n",
      "Size of X is now (1000, 500)\n",
      "Rank of new X = 300\n",
      "Rank of Y1 = 300\n",
      "Rank of Y2 = 300\n",
      "Rank of Z1 = 300\n",
      "Rank of Z2 = 300\n"
     ]
    }
   ],
   "source": [
    "#Dimensions of X\n",
    "n = 1000\n",
    "m = 500\n",
    "r = 300\n",
    "#Create r linearly independent columns\n",
    "X = np.random.randint(5, size = (n,r))\n",
    "rtest = np.linalg.matrix_rank(X)\n",
    "print ('Rank of X = ' + str(rtest))\n",
    "if r != rtest:\n",
    "    raise Exception(\"Generated matrix does not have rank r\")\n",
    "\n",
    "#Add linearly dependent columns to X\n",
    "Xorig = X\n",
    "i = r\n",
    "while i < m:\n",
    "    coefs = np.random.randint(-1,2, size = (r,1))\n",
    "    c = Xorig @ coefs\n",
    "    X = np.concatenate((X,c), axis=1)\n",
    "    i += 1;\n",
    "    \n",
    "print('Size of X is now ' + str(X.shape))\n",
    "r = np.linalg.matrix_rank(X)\n",
    "print('Rank of new X = ' + str(r))\n",
    "\n",
    "#Randomly shuffle columns of X\n",
    "np.random.shuffle(X.T)\n",
    "\n",
    "#Create random matrcies of -1 and 1s\n",
    "P1 = np.random.randint(2, size = (n,r))\n",
    "P1 = P1*2-np.ones((n,r))\n",
    "P2 = np.random.randint(2, size = (n,r+1))\n",
    "P2 = P2*2-np.ones((n,r+1))\n",
    "\n",
    "#Project X onto random matrices\n",
    "Y1 = P1.T @ X\n",
    "Y2 = P2.T @ X\n",
    "print('Rank of Y1 = ' + str(np.linalg.matrix_rank(Y1)))\n",
    "print('Rank of Y2 = ' + str(np.linalg.matrix_rank(Y2)))\n",
    "\n",
    "\n",
    "P3 = np.random.randint(2, size = (m,r))\n",
    "P3 = P3*2-np.ones((m,r))\n",
    "P4 = np.random.randint(2, size = (m,r+1))\n",
    "P4 = P4*2-np.ones((m,r+1))\n",
    "\n",
    "Z1 = X @ P3\n",
    "Z2 = X @ P4\n",
    "print('Rank of Z1 = ' + str(np.linalg.matrix_rank(Z1)))\n",
    "print('Rank of Z2 = ' + str(np.linalg.matrix_rank(Z2)))"
   ]
  },
  {
   "cell_type": "code",
   "execution_count": 404,
   "id": "pharmaceutical-paper",
   "metadata": {},
   "outputs": [
    {
     "name": "stdout",
     "output_type": "stream",
     "text": [
      "[[0 1 2]\n",
      " [3 4 5]\n",
      " [6 7 8]]\n"
     ]
    },
    {
     "data": {
      "text/plain": [
       "array([[0, 2, 1],\n",
       "       [3, 5, 4],\n",
       "       [6, 8, 7]])"
      ]
     },
     "execution_count": 404,
     "metadata": {},
     "output_type": "execute_result"
    }
   ],
   "source": [
    "arr = np.arange(9).reshape((3, 3))\n",
    "print(arr)\n",
    "np.random.shuffle(arr.T)\n",
    "arr"
   ]
  }
 ],
 "metadata": {
  "kernelspec": {
   "display_name": "Python 3",
   "language": "python",
   "name": "python3"
  },
  "language_info": {
   "codemirror_mode": {
    "name": "ipython",
    "version": 3
   },
   "file_extension": ".py",
   "mimetype": "text/x-python",
   "name": "python",
   "nbconvert_exporter": "python",
   "pygments_lexer": "ipython3",
   "version": "3.8.5"
  }
 },
 "nbformat": 4,
 "nbformat_minor": 5
}
